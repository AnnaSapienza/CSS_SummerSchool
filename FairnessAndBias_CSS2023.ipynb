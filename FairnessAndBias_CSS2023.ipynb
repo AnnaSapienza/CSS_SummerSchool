{
 "cells": [
  {
   "cell_type": "markdown",
   "id": "17480f7a",
   "metadata": {},
   "source": [
    "# Fairness and Bias in Machine Learning"
   ]
  },
  {
   "cell_type": "markdown",
   "id": "faa50153",
   "metadata": {},
   "source": [
    "![image info](https://static.propublica.org/projects/algorithmic-bias/assets/img/generated/opener-b-crop-1200*675-00796e.jpg)\n"
   ]
  },
  {
   "cell_type": "markdown",
   "id": "6fca30bf",
   "metadata": {},
   "source": [
    "## Data analysis on the ProPublica Dataset"
   ]
  },
  {
   "cell_type": "markdown",
   "id": "26179b4e",
   "metadata": {},
   "source": [
    "The goal of this exercise is to have you interact with the **COMPAS dataset**, to clean the dataset for analysis, extract insight, visualize findings, and replicate a part of the **ProPublica's analysis**."
   ]
  },
  {
   "cell_type": "markdown",
   "id": "e76f33dc",
   "metadata": {},
   "source": [
    "## Loading and surveying the data"
   ]
  },
  {
   "cell_type": "markdown",
   "id": "7820c03d",
   "metadata": {},
   "source": [
    "* Load the dataset `compas-scores-two-years.csv` and select the columns below."
   ]
  },
  {
   "cell_type": "markdown",
   "id": "4835ef06",
   "metadata": {},
   "source": [
    "### Columns of Interest:\n",
    "* `age` - Age of the defendant. It is numeric.\n",
    "* `age_cat` - Category of Age. It can be < 25, 25-45, >45.\n",
    "* `sex` - Sex of the defendant. It is either 'Male' or 'Female'\n",
    "* `race` - Race of the defendant. It can be 'African-American', 'Caucasian', 'Hispanic', 'Asian', or 'Other'.\n",
    "* `c_charge_degree` - Degree of the crime. It is either M (Misdemeanor), F (Felony), or O (not causing jail time).\n",
    "* `priors_count` - Count of prior crimes committed by the defendant. It is numeric.\n",
    "* `days_b_screening_arrest` - Days between the arrest and COMPAS screening.\n",
    "* `decile_score` - The COMPAS score predicted by the system. It is between 0-10.\n",
    "* `score_text` - Category of decile score. It can be Low (1-4), Medium (5-7), and High (8-10).\n",
    "* `is_recid` - A variable to indicate if recidivism was done by the defendant. It can be 0, 1, -1.\n",
    "* `two_year_recid` - A variable to indicate if recidivism was done by the defendant within two years.\n",
    "* `c_jail_in` - Time when the defendant was jailed.\n",
    "* `c_jail_out` - Time when the defendant was released from the jail."
   ]
  },
  {
   "cell_type": "code",
   "execution_count": null,
   "id": "a91610af",
   "metadata": {},
   "outputs": [],
   "source": [
    "## WRITE YOUR CODE HERE"
   ]
  },
  {
   "cell_type": "markdown",
   "id": "8992ae2f",
   "metadata": {},
   "source": [
    "## Data Cleaning\n",
    "Now that we have surveyed the dataset, let's look into cleaning the data. This data-cleaning is largely based off of ProPublica's methods:\n",
    "1. We only focus on cases where the COMPAS scored crime happened within +/- 30 days from when the person was arrested (if the value is missing, the record should be removed). \n",
    "2. Then, we also get rid of cases where is_recid is -1 since we only want binary values for the purpose of our analysis (0 for no recidivism, 1 for yes recidivism). \n",
    "3. Finally, we don't want the c_charge_degree to be \"O\" which denotes ordinary traffic offenses (not as serious of a crime). \n",
    "\n",
    "The cleaned dataset has 6172 records and 13 features."
   ]
  },
  {
   "cell_type": "code",
   "execution_count": null,
   "id": "87457416",
   "metadata": {},
   "outputs": [],
   "source": [
    "## WRITE YOUR CODE HERE"
   ]
  },
  {
   "cell_type": "markdown",
   "id": "d4fb4f9f",
   "metadata": {},
   "source": [
    "## Exploratory data Analysis"
   ]
  },
  {
   "cell_type": "markdown",
   "id": "526e2d77",
   "metadata": {},
   "source": [
    "Let's study basic statistics of the dataset\n",
    "* Frequency of different attributes (such as race, age, sex, decile score)\n",
    "* General descriptive statistics of the dataset"
   ]
  },
  {
   "cell_type": "code",
   "execution_count": null,
   "id": "e7c5653f",
   "metadata": {},
   "outputs": [],
   "source": [
    "## WRITE YOUR CODE HERE"
   ]
  },
  {
   "cell_type": "markdown",
   "id": "fae1d336",
   "metadata": {},
   "source": [
    "## Bias Analysis"
   ]
  },
  {
   "cell_type": "markdown",
   "id": "6faf5a42",
   "metadata": {},
   "source": [
    "* Study the distribution of the recidivism score `decile_score` for different categories: does recidivism have the same distribution for different races? For different genders? \n",
    "    \n",
    "* If it is not distributed in the same way, which biases do you identify in the input dataset that can lead to different distributions? \n",
    "    * List the ones you think are present and explain why."
   ]
  },
  {
   "cell_type": "code",
   "execution_count": null,
   "id": "abb827d7",
   "metadata": {},
   "outputs": [],
   "source": [
    "## WRITE YOUR CODE HERE"
   ]
  },
  {
   "cell_type": "markdown",
   "id": "c4f3be9d",
   "metadata": {},
   "source": [
    "## Replicating ProPublica Analysis\n",
    "\n",
    "Propublica used the *COMPAS scores* to predict recidivism if the score was >=5 and no recidivism if the score was < 5.\n",
    "\n",
    "This is not a complete analysis since it solely uses the decile score and does a hard thresholding for prediction, discarding all other aspects of individuals. But let's reproduce it anyway:\n",
    "\n",
    ">\n",
    "> * Compute the thresholded version of predicted recividism call it `predicted_recid`.\n",
    "> * Compute the accuracy of the COMPAS model\n",
    "> * Compute and visualize the confusion matrix for each of the races (i.e. TP, TN, FP, FN)\n",
    ">     * **Hint:** you can visualize a confusion matrix as a [seaborn heatmap](https://seaborn.pydata.org/generated/seaborn.heatmap.html)\n",
    "> * Compute and visualize the mean recidivism score, the false positive rate and false negative rate for each of the races\n",
    "> * What do you conclude?"
   ]
  },
  {
   "cell_type": "code",
   "execution_count": null,
   "id": "371b6e03",
   "metadata": {},
   "outputs": [],
   "source": [
    "## WRITE YOUR CODE HERE"
   ]
  },
  {
   "cell_type": "markdown",
   "id": "9f26a943",
   "metadata": {},
   "source": [
    "## Debiasing"
   ]
  },
  {
   "cell_type": "markdown",
   "id": "5b3d3ae3",
   "metadata": {},
   "source": [
    "We are now going to implement the function for **Statistical Parity** and apply it to the results of the COMPAS model (i.e. on the predicted recidivism `predicted_recid`). For this exercise, we are going to focus only on the *African-American* and *Caucasian* groups as they have more data samples in our data (however, you can repeat the steps for other demographics too!).\n",
    ">\n",
    "> * Select African-American and Caucasian samples from the data.\n",
    "> * Compute the probability of predicting recidivism (`predicted_recid==1`) for the two populations, i.e. $P_{AA}$ for African-American and $P_{CA}$ for Caucasian. What do you observe?\n",
    "> * To debias the output you need to:\n",
    ">    * Compute the threshold $th = 1 - \\frac{P_{CA}}{P_{AA}}$;\n",
    ">    * randomly flip positive predictions to negative (1s to 0s), i.e. pick a random number $n\\in\\left[0,1\\right)$ from a uniform distribution and flip a positive prediction if $n < th$.\n",
    "> * Recompute the probabilities $P_{CA}$ and $P_{AA}$ (only now they are corrected). What do you observe?\n",
    "> * Plot the confusion matrices with the corrected values. What do you observe?\n",
    "> * Explain what could be the issue with this method."
   ]
  },
  {
   "cell_type": "code",
   "execution_count": null,
   "id": "042a9ba3",
   "metadata": {},
   "outputs": [],
   "source": [
    "## WRITE YOUR CODE HERE"
   ]
  },
  {
   "cell_type": "markdown",
   "id": "98f22583",
   "metadata": {},
   "source": [
    "## Optional (if you are courious and finish early)\n",
    "\n",
    "To encourage transparent model use and reporting Mitchell et al. designed a framework called Model Cards (see paper in resources). Model Cards are used to evaluate a model from different angles and keep into account its purpose and ethical considerations.\n",
    "\n",
    "The paper shows a summary of a model card and provide details on how to use them. Try to go through the paper and rethink the COMPAS model in terms of the aspects listed in the model card. \n",
    "\n",
    "If you do not care about COMPAS, perhaps you could think about using model cards (or part of them) in your group project or in future projects!"
   ]
  },
  {
   "cell_type": "markdown",
   "id": "59fcb854",
   "metadata": {},
   "source": [
    "## References\n",
    "- https://github.com/propublica/compas-analysis/\n",
    "- https://www.propublica.org/article/how-we-analyzed-the-compas-recidivism-algorithm"
   ]
  }
 ],
 "metadata": {
  "kernelspec": {
   "display_name": "Python 3 (ipykernel)",
   "language": "python",
   "name": "python3"
  },
  "language_info": {
   "codemirror_mode": {
    "name": "ipython",
    "version": 3
   },
   "file_extension": ".py",
   "mimetype": "text/x-python",
   "name": "python",
   "nbconvert_exporter": "python",
   "pygments_lexer": "ipython3",
   "version": "3.9.13"
  }
 },
 "nbformat": 4,
 "nbformat_minor": 5
}
